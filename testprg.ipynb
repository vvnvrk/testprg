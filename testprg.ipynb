{
 "cells": [
  {
   "cell_type": "markdown",
   "metadata": {},
   "source": [
    "# <center>Создание проекта и сохрание его на GitHub<center>"
   ]
  },
  {
   "cell_type": "markdown",
   "metadata": {},
   "source": [
    "1. Создаем папку проекта.\n",
    "2. Создаем подпапку данных.\n",
    "3. Создаем подпапку рисунков.\n",
    "4. Копируем в папку проекта файлы readme.md и gitiognore.\n",
    "5. Создаем ноутбук проекта."
   ]
  }
 ],
 "metadata": {
  "language_info": {
   "name": "python"
  }
 },
 "nbformat": 4,
 "nbformat_minor": 2
}
